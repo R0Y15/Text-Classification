{
  "cells": [
    {
      "cell_type": "markdown",
      "metadata": {
        "id": "H7L9swBjN2BQ"
      },
      "source": [
        "Import Statements"
      ]
    },
    {
      "cell_type": "code",
      "execution_count": 1,
      "metadata": {
        "id": "YwAcHVXIe9ms"
      },
      "outputs": [],
      "source": [
        "import csv\n",
        "import numpy as np\n",
        "import pandas as pd\n",
        "from keras.models import Sequential\n",
        "from keras.layers import Dense, Embedding, Flatten, LSTM\n",
        "from keras.preprocessing.text import Tokenizer\n",
        "from keras.utils import pad_sequences\n",
        "from sklearn.model_selection import train_test_split\n",
        "from sklearn.metrics import accuracy_score"
      ]
    },
    {
      "cell_type": "markdown",
      "metadata": {
        "id": "K6emsljJfPYK"
      },
      "source": [
        "Load the data set"
      ]
    },
    {
      "cell_type": "code",
      "execution_count": 2,
      "metadata": {
        "id": "VjqLw8YKfDJK"
      },
      "outputs": [],
      "source": [
        "data = [] \n",
        "with open(\"./reviews.csv\", mode=\"r\", errors=\"ignore\") as csv_file: \n",
        "  reader = csv.DictReader(csv_file) \n",
        "  for row in reader: \n",
        "    data.append(row) \n",
        "df = pd.DataFrame(data)"
      ]
    },
    {
      "cell_type": "markdown",
      "metadata": {
        "id": "scsOFvUnfTU5"
      },
      "source": [
        "Split the data into sentences and labels"
      ]
    },
    {
      "cell_type": "code",
      "execution_count": 3,
      "metadata": {
        "colab": {
          "base_uri": "https://localhost:8080/",
          "height": 502
        },
        "id": "DjC6zUI8fWjX",
        "outputId": "f2e7fee7-390c-4fae-c0d9-cd066f98a7d9"
      },
      "outputs": [],
      "source": [
        "sentences = df[\"review\"].values;labels = df[\"sentiment\"].values"
      ]
    },
    {
      "cell_type": "markdown",
      "metadata": {
        "id": "f0ed22krfa8j"
      },
      "source": [
        "Define the vocabulary size and the maximum length of sentences"
      ]
    },
    {
      "cell_type": "code",
      "execution_count": 4,
      "metadata": {
        "id": "Gt3tSdmufe2j"
      },
      "outputs": [],
      "source": [
        "vocab_size = 1000\n",
        "maxlen = 100"
      ]
    },
    {
      "cell_type": "markdown",
      "metadata": {
        "id": "xnDVxvd8ff0G"
      },
      "source": [
        "Create a tokenizer and fit it on the sentences"
      ]
    },
    {
      "cell_type": "code",
      "execution_count": 5,
      "metadata": {
        "id": "hvtHJWhKfdv4"
      },
      "outputs": [],
      "source": [
        "tokenizer = Tokenizer(num_words=vocab_size)\n",
        "tokenizer.fit_on_texts(sentences)"
      ]
    },
    {
      "cell_type": "markdown",
      "metadata": {
        "id": "468bfPFBf-6c"
      },
      "source": [
        "Convert the sentences into sequences of integers"
      ]
    },
    {
      "cell_type": "code",
      "execution_count": 6,
      "metadata": {
        "id": "FhsOaxvagD-P"
      },
      "outputs": [],
      "source": [
        "sequences = tokenizer.texts_to_sequences(sentences)"
      ]
    },
    {
      "cell_type": "markdown",
      "metadata": {
        "id": "vWMo_HTHhfGj"
      },
      "source": [
        "Pad the sequences to have the same length"
      ]
    },
    {
      "cell_type": "code",
      "execution_count": 7,
      "metadata": {
        "id": "FRmeTwB4hmEH"
      },
      "outputs": [],
      "source": [
        "padded_sequences = pad_sequences(sequences, maxlen=maxlen)"
      ]
    },
    {
      "cell_type": "markdown",
      "metadata": {
        "id": "VT6Ebae9hobo"
      },
      "source": [
        "Split the data into training and testing sets"
      ]
    },
    {
      "cell_type": "code",
      "execution_count": 8,
      "metadata": {
        "id": "UAfJsOkthrLu"
      },
      "outputs": [],
      "source": [
        "X_train, X_test, y_train, y_test = train_test_split(padded_sequences, labels, test_size=0.2, random_state=42)"
      ]
    },
    {
      "cell_type": "code",
      "execution_count": 9,
      "metadata": {},
      "outputs": [],
      "source": [
        "# calculate the maximum sequence length\n",
        "max_sequence_length = max(len(sequence) for sequence in padded_sequences)\n",
        "\n",
        "vocabulary_size = len(tokenizer.word_index) + 1"
      ]
    },
    {
      "cell_type": "markdown",
      "metadata": {
        "id": "Hc5UTeAdhr69"
      },
      "source": [
        "Define the neural network model"
      ]
    },
    {
      "cell_type": "code",
      "execution_count": 10,
      "metadata": {
        "id": "teoQqbtRhuB9"
      },
      "outputs": [],
      "source": [
        "model = Sequential()\n",
        "model.add(Embedding(vocabulary_size, 128, input_length=max_sequence_length))\n",
        "model.add(LSTM(128))\n",
        "model.add(Dense(1, activation='sigmoid'))\n",
        "model.compile(loss='binary_crossentropy', optimizer='adam', metrics=['accuracy'])"
      ]
    },
    {
      "cell_type": "markdown",
      "metadata": {
        "id": "5_gCFTB3h8_J"
      },
      "source": [
        "Compile the model with binary crossentropy loss and adam optimizer"
      ]
    },
    {
      "cell_type": "code",
      "execution_count": 11,
      "metadata": {
        "id": "wNf9s90Uh-1e"
      },
      "outputs": [],
      "source": [
        "model.compile(loss=\"binary_crossentropy\", optimizer=\"adam\", metrics=[\"accuracy\"])"
      ]
    },
    {
      "cell_type": "markdown",
      "metadata": {
        "id": "JLMT0PZ0Jn7H"
      },
      "source": [
        "Print the summary of the model"
      ]
    },
    {
      "cell_type": "code",
      "execution_count": 12,
      "metadata": {
        "colab": {
          "base_uri": "https://localhost:8080/"
        },
        "id": "C0KbHJfAJp6Q",
        "outputId": "e4bd26bc-f1ce-424d-dce4-0a1e0403c754"
      },
      "outputs": [
        {
          "name": "stdout",
          "output_type": "stream",
          "text": [
            "Model: \"sequential\"\n",
            "_________________________________________________________________\n",
            " Layer (type)                Output Shape              Param #   \n",
            "=================================================================\n",
            " embedding (Embedding)       (None, 100, 128)          15905152  \n",
            "                                                                 \n",
            " lstm (LSTM)                 (None, 128)               131584    \n",
            "                                                                 \n",
            " dense (Dense)               (None, 1)                 129       \n",
            "                                                                 \n",
            "=================================================================\n",
            "Total params: 16,036,865\n",
            "Trainable params: 16,036,865\n",
            "Non-trainable params: 0\n",
            "_________________________________________________________________\n"
          ]
        }
      ],
      "source": [
        "model.summary()"
      ]
    },
    {
      "cell_type": "markdown",
      "metadata": {},
      "source": [
        "Conversion of Incoming Data "
      ]
    },
    {
      "cell_type": "code",
      "execution_count": 13,
      "metadata": {},
      "outputs": [],
      "source": [
        "# define a function to convert the labels\n",
        "def convert_labels(labels):\n",
        "    return np.array([0 if label == 'negative' else 1 for label in labels], dtype=np.float32)\n",
        "\n",
        "# convert the training labels\n",
        "y_train = convert_labels(y_train)\n",
        "\n",
        "# convert the test labels\n",
        "y_test = convert_labels(y_test)"
      ]
    },
    {
      "cell_type": "markdown",
      "metadata": {
        "id": "4Mgo0ryeJtEL"
      },
      "source": [
        "Train the model for 10 epochs with a batch size of 32"
      ]
    },
    {
      "cell_type": "code",
      "execution_count": 14,
      "metadata": {
        "colab": {
          "base_uri": "https://localhost:8080/",
          "height": 311
        },
        "id": "qskgIUMyJxZI",
        "outputId": "5e03d88a-26ae-4ab8-dc78-acbca0e4cc35"
      },
      "outputs": [
        {
          "name": "stdout",
          "output_type": "stream",
          "text": [
            "Epoch 1/10\n",
            "1250/1250 [==============================] - 175s 139ms/step - loss: 0.4342 - accuracy: 0.7975 - val_loss: 0.3845 - val_accuracy: 0.8375\n",
            "Epoch 2/10\n",
            "1250/1250 [==============================] - 173s 139ms/step - loss: 0.3455 - accuracy: 0.8498 - val_loss: 0.3207 - val_accuracy: 0.8589\n",
            "Epoch 3/10\n",
            "1250/1250 [==============================] - 173s 139ms/step - loss: 0.3110 - accuracy: 0.8674 - val_loss: 0.3162 - val_accuracy: 0.8641\n",
            "Epoch 4/10\n",
            "1250/1250 [==============================] - 174s 139ms/step - loss: 0.2884 - accuracy: 0.8783 - val_loss: 0.3056 - val_accuracy: 0.8681\n",
            "Epoch 5/10\n",
            "1250/1250 [==============================] - 181s 145ms/step - loss: 0.2719 - accuracy: 0.8864 - val_loss: 0.3080 - val_accuracy: 0.8659\n",
            "Epoch 6/10\n",
            "1250/1250 [==============================] - 189s 151ms/step - loss: 0.2548 - accuracy: 0.8932 - val_loss: 0.3153 - val_accuracy: 0.8643\n",
            "Epoch 7/10\n",
            "1250/1250 [==============================] - 190s 152ms/step - loss: 0.2359 - accuracy: 0.9037 - val_loss: 0.3282 - val_accuracy: 0.8569\n",
            "Epoch 8/10\n",
            "1250/1250 [==============================] - 190s 152ms/step - loss: 0.2188 - accuracy: 0.9113 - val_loss: 0.3430 - val_accuracy: 0.8504\n",
            "Epoch 9/10\n",
            "1250/1250 [==============================] - 188s 150ms/step - loss: 0.2011 - accuracy: 0.9189 - val_loss: 0.3644 - val_accuracy: 0.8635\n",
            "Epoch 10/10\n",
            "1250/1250 [==============================] - 174s 140ms/step - loss: 0.1828 - accuracy: 0.9263 - val_loss: 0.3930 - val_accuracy: 0.8538\n"
          ]
        },
        {
          "data": {
            "text/plain": [
              "<keras.callbacks.History at 0x1ef000efe50>"
            ]
          },
          "execution_count": 14,
          "metadata": {},
          "output_type": "execute_result"
        }
      ],
      "source": [
        "model.fit(X_train, y_train, validation_data=(X_test, y_test), epochs=10, batch_size=32)"
      ]
    },
    {
      "cell_type": "markdown",
      "metadata": {
        "id": "00GcFxGWJzAz"
      },
      "source": [
        "Evaluate the model on the test set and print the accuracy score"
      ]
    },
    {
      "cell_type": "code",
      "execution_count": 15,
      "metadata": {
        "colab": {
          "base_uri": "https://localhost:8080/",
          "height": 467
        },
        "id": "qV8Q3Jv0J1rt",
        "outputId": "57e0053e-10db-4c4e-b602-9cb525ecc769"
      },
      "outputs": [
        {
          "name": "stdout",
          "output_type": "stream",
          "text": [
            "313/313 [==============================] - 7s 21ms/step\n",
            "Accuracy: 0.8538\n"
          ]
        }
      ],
      "source": [
        "y_pred = model.predict(X_test)\n",
        "y_pred = np.round(y_pred).flatten()\n",
        "acc = accuracy_score(y_test, y_pred)\n",
        "print(f\"Accuracy: {acc}\")"
      ]
    }
  ],
  "metadata": {
    "colab": {
      "provenance": []
    },
    "kernelspec": {
      "display_name": "Python 3",
      "name": "python3"
    },
    "language_info": {
      "codemirror_mode": {
        "name": "ipython",
        "version": 3
      },
      "file_extension": ".py",
      "mimetype": "text/x-python",
      "name": "python",
      "nbconvert_exporter": "python",
      "pygments_lexer": "ipython3",
      "version": "3.10.10"
    }
  },
  "nbformat": 4,
  "nbformat_minor": 0
}
